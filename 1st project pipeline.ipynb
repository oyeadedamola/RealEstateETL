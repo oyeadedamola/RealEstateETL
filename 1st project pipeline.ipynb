{
 "cells": [
  {
   "cell_type": "code",
   "execution_count": 91,
   "id": "f991954b",
   "metadata": {},
   "outputs": [],
   "source": [
    "import requests\n",
    "import json\n",
    "import pandas as pd\n",
    "import csv\n",
    "import psycopg2"
   ]
  },
  {
   "cell_type": "markdown",
   "id": "ecc697e5",
   "metadata": {},
   "source": [
    "# Extraction Layer"
   ]
  },
  {
   "cell_type": "code",
   "execution_count": 92,
   "id": "b71f7476",
   "metadata": {},
   "outputs": [],
   "source": [
    "url = \"https://realty-mole-property-api.p.rapidapi.com/randomProperties\"\n",
    "\n",
    "querystring = {\"limit\":\"100000\"}\n",
    "\n",
    "headers = {\n",
    "\t\"x-rapidapi-key\": \"44f9cb2ad8msh6f3d4d207145829p1f2707jsn317690134bb4\",\n",
    "\t\"x-rapidapi-host\": \"realty-mole-property-api.p.rapidapi.com\"\n",
    "}\n",
    "\n",
    "response = requests.get(url, headers=headers, params=querystring)\n",
    "\n",
    "#print(response.json())\n",
    "\n",
    "data = response.json()\n",
    "\n",
    "# Save the data to a file\n",
    "filename = \"PropertyRecords.json\"\n",
    "with open(filename, \"w\") as file:\n",
    "    json.dump(data, file, indent=4)"
   ]
  },
  {
   "cell_type": "code",
   "execution_count": 93,
   "id": "22711562",
   "metadata": {},
   "outputs": [],
   "source": [
    "# read into a dataframe\n",
    "\n",
    "ProjectRecords_pd = pd.read_json('PropertyRecords.json')"
   ]
  },
  {
   "cell_type": "code",
   "execution_count": 85,
   "id": "627b6378",
   "metadata": {},
   "outputs": [
    {
     "name": "stdout",
     "output_type": "stream",
     "text": [
      "<class 'pandas.core.frame.DataFrame'>\n",
      "RangeIndex: 500 entries, 0 to 499\n",
      "Data columns (total 27 columns):\n",
      " #   Column            Non-Null Count  Dtype  \n",
      "---  ------            --------------  -----  \n",
      " 0   addressLine1      500 non-null    object \n",
      " 1   city              500 non-null    object \n",
      " 2   state             500 non-null    object \n",
      " 3   zipCode           500 non-null    int64  \n",
      " 4   formattedAddress  500 non-null    object \n",
      " 5   bedrooms          333 non-null    float64\n",
      " 6   squareFootage     385 non-null    float64\n",
      " 7   yearBuilt         371 non-null    float64\n",
      " 8   county            500 non-null    object \n",
      " 9   assessorID        363 non-null    object \n",
      " 10  legalDescription  352 non-null    object \n",
      " 11  subdivision       312 non-null    object \n",
      " 12  zoning            210 non-null    object \n",
      " 13  ownerOccupied     329 non-null    float64\n",
      " 14  bathrooms         371 non-null    float64\n",
      " 15  lotSize           355 non-null    float64\n",
      " 16  propertyType      403 non-null    object \n",
      " 17  lastSalePrice     266 non-null    float64\n",
      " 18  lastSaleDate      327 non-null    object \n",
      " 19  features          465 non-null    object \n",
      " 20  taxAssessment     355 non-null    object \n",
      " 21  propertyTaxes     342 non-null    object \n",
      " 22  owner             358 non-null    object \n",
      " 23  id                500 non-null    object \n",
      " 24  longitude         500 non-null    float64\n",
      " 25  latitude          500 non-null    float64\n",
      " 26  addressLine2      108 non-null    object \n",
      "dtypes: float64(9), int64(1), object(17)\n",
      "memory usage: 105.6+ KB\n"
     ]
    }
   ],
   "source": [
    "#ProjectRecords_pd.info()"
   ]
  },
  {
   "cell_type": "code",
   "execution_count": 55,
   "id": "ea46a486",
   "metadata": {},
   "outputs": [],
   "source": [
    "#pd.set_option('display.max_columns', None)\n",
    "#pd.set_option('display.max_colwidth', None)"
   ]
  },
  {
   "cell_type": "markdown",
   "id": "0fd129b2",
   "metadata": {},
   "source": [
    "# Transformation Layer"
   ]
  },
  {
   "cell_type": "code",
   "execution_count": 101,
   "id": "0319a49d",
   "metadata": {},
   "outputs": [],
   "source": [
    "#Coverting dictionary columns into string\n",
    "def convert_dict_columns_to_string(ProjectRecords_pd: pd.DataFrame) -> pd.DataFrame:\n",
    "    \"\"\"\n",
    "    Converts all dictionary-type columns in a DataFrame to string format.\n",
    "\n",
    "    Args:\n",
    "        df (pd.DataFrame): The input DataFrame.\n",
    "\n",
    "    Returns:\n",
    "        pd.DataFrame: A DataFrame with dictionary columns converted to strings.\n",
    "    \"\"\"\n",
    "    for col in ProjectRecords_pd.columns:\n",
    "        # Check if the column contains dictionary entries\n",
    "        if ProjectRecords_pd[col].apply(lambda x: isinstance(x, dict)).any():\n",
    "            ProjectRecords_pd[col] = ProjectRecords_pd[col].apply(lambda x: str(x) if isinstance(x, dict) else x)\n",
    "    return ProjectRecords_pd\n",
    "ProjectRecords_pd = convert_dict_columns_to_string(ProjectRecords_pd)"
   ]
  },
  {
   "cell_type": "code",
   "execution_count": 87,
   "id": "9ab67b68",
   "metadata": {},
   "outputs": [],
   "source": [
    "# Replace Nan Values with appropraite defaults or remove row/columns as neccesary\n",
    "ProjectRecords_pd.fillna({\n",
    "    \"assessorID\": \"Unknown\",\n",
    "    \"legalDescription\": \"Not available\",\n",
    "    \"squareFootage\": 0,\n",
    "    \"subdivision\": \"Not available\",\n",
    "    \"yearBuilt\": 0,\n",
    "    \"bathrooms\": 0,\n",
    "    \"lotSize\": 0,\n",
    "    \"propertyType\": \"Unknown\",\n",
    "    \"lastSalePrice\":0,\n",
    "    \"lastSaleDate\": \"Not available\",\n",
    "    \"features\": \"None\",\n",
    "    \"taxAssessment\": \"Not available\",\n",
    "    \"owner\": \"Unknown\",\n",
    "    \"propertyTaxes\": \"Not available\",\n",
    "    \"bedrooms\": 0,\n",
    "    \"ownerOccupied\": 0,\n",
    "    \"zoning\": \"Unknown\",\n",
    "    \"addressLine2\": \"Not available\",\n",
    "    \"formattedAddress\": \"Not Available\",\n",
    "    \"county\": \"Not available\"\n",
    "    \n",
    "}, inplace=True)"
   ]
  },
  {
   "cell_type": "code",
   "execution_count": 64,
   "id": "e45c2887",
   "metadata": {},
   "outputs": [],
   "source": [
    "# Create the fact table\n",
    "fact_columns = [\"addressLine1\", \"city\", \"state\", \"zipCode\", \"formattedAddress\", \"squareFootage\", \"yearBuilt\", \"bathrooms\",\n",
    "               \"bedrooms\", \"lotSize\", \"longitude\", \"latitude\"]\n",
    "fact_table = ProjectRecords_pd[fact_columns]\n"
   ]
  },
  {
   "cell_type": "code",
   "execution_count": 65,
   "id": "793d8dc7",
   "metadata": {},
   "outputs": [],
   "source": [
    "# Create location Dimension\n",
    "location_dim = ProjectRecords_pd[[\"addressLine1\", \"city\", \"state\", \"zipCode\",\"county\",\"longitude\", \"latitude\"]].drop_duplicates()\n",
    "location_dim.index.name = \"location_id\"\n"
   ]
  },
  {
   "cell_type": "code",
   "execution_count": 73,
   "id": "7df1a240",
   "metadata": {},
   "outputs": [],
   "source": [
    "# Create sale Dimension\n",
    "sales_dim = ProjectRecords_pd[['lastSalePrice', \"lastSaleDate\"]].drop_duplicates().reset_index(drop=True)\n",
    "sales_dim.index.name = \"sales_id\""
   ]
  },
  {
   "cell_type": "code",
   "execution_count": 102,
   "id": "4f1f5440",
   "metadata": {},
   "outputs": [],
   "source": [
    "# Create Property Features Dimension\n",
    "features_dim = ProjectRecords_pd[[\"features\", \"propertyType\", \"zoning\"]].drop_duplicates().reset_index(drop=True)\n",
    "features_dim.index.name = \"features_id\""
   ]
  },
  {
   "cell_type": "code",
   "execution_count": 107,
   "id": "712b9cea",
   "metadata": {},
   "outputs": [],
   "source": [
    "# Saving fact and dimensions table in csv format\n",
    "fact_table.to_csv(\"property_fact.csv\", index=False)\n",
    "location_dim.to_csv(\"location_dimension.csv\", index=True)\n",
    "sales_dim.to_csv(\"sales_dimension.csv\", index=True)\n",
    "features_dim.to_csv(\"features_dimension.csv\", index=True)"
   ]
  },
  {
   "cell_type": "code",
   "execution_count": null,
   "id": "87ab2e79",
   "metadata": {},
   "outputs": [],
   "source": []
  }
 ],
 "metadata": {
  "kernelspec": {
   "display_name": "Python 3 (ipykernel)",
   "language": "python",
   "name": "python3"
  },
  "language_info": {
   "codemirror_mode": {
    "name": "ipython",
    "version": 3
   },
   "file_extension": ".py",
   "mimetype": "text/x-python",
   "name": "python",
   "nbconvert_exporter": "python",
   "pygments_lexer": "ipython3",
   "version": "3.10.6"
  }
 },
 "nbformat": 4,
 "nbformat_minor": 5
}
