{
 "cells": [
  {
   "cell_type": "code",
   "execution_count": 1,
   "id": "f991954b",
   "metadata": {},
   "outputs": [],
   "source": [
    "import requests\n",
    "import json\n",
    "import pandas as pd\n",
    "import csv\n",
    "import psycopg2"
   ]
  },
  {
   "cell_type": "markdown",
   "id": "ecc697e5",
   "metadata": {},
   "source": [
    "# Extraction Layer"
   ]
  },
  {
   "cell_type": "code",
   "execution_count": 2,
   "id": "b71f7476",
   "metadata": {},
   "outputs": [],
   "source": [
    "url = \"https://realty-mole-property-api.p.rapidapi.com/randomProperties\"\n",
    "\n",
    "querystring = {\"limit\":\"100000\"}\n",
    "\n",
    "headers = {\n",
    "\t\"x-rapidapi-key\": \"44f9cb2ad8msh6f3d4d207145829p1f2707jsn317690134bb4\",\n",
    "\t\"x-rapidapi-host\": \"realty-mole-property-api.p.rapidapi.com\"\n",
    "}\n",
    "\n",
    "response = requests.get(url, headers=headers, params=querystring)\n",
    "\n",
    "#print(response.json())\n",
    "\n",
    "data = response.json()\n",
    "\n",
    "# Save the data to a file\n",
    "filename = \"PropertyRecords.json\"\n",
    "with open(filename, \"w\") as file:\n",
    "    json.dump(data, file, indent=4)"
   ]
  },
  {
   "cell_type": "code",
   "execution_count": 3,
   "id": "22711562",
   "metadata": {},
   "outputs": [],
   "source": [
    "# read into a dataframe\n",
    "\n",
    "ProjectRecords_pd = pd.read_json('PropertyRecords.json')"
   ]
  },
  {
   "cell_type": "code",
   "execution_count": 4,
   "id": "627b6378",
   "metadata": {},
   "outputs": [],
   "source": [
    "#ProjectRecords_pd.info()"
   ]
  },
  {
   "cell_type": "code",
   "execution_count": 5,
   "id": "ea46a486",
   "metadata": {},
   "outputs": [],
   "source": [
    "#pd.set_option('display.max_columns', None)\n",
    "#pd.set_option('display.max_colwidth', None)"
   ]
  },
  {
   "cell_type": "markdown",
   "id": "0fd129b2",
   "metadata": {},
   "source": [
    "# Transformation Layer"
   ]
  },
  {
   "cell_type": "code",
   "execution_count": 6,
   "id": "0319a49d",
   "metadata": {},
   "outputs": [],
   "source": [
    "#Coverting dictionary columns into string\n",
    "def convert_dict_columns_to_string(ProjectRecords_pd: pd.DataFrame) -> pd.DataFrame:\n",
    "    \"\"\"\n",
    "    Converts all dictionary-type columns in a DataFrame to string format.\n",
    "\n",
    "    Args:\n",
    "        df (pd.DataFrame): The input DataFrame.\n",
    "\n",
    "    Returns:\n",
    "        pd.DataFrame: A DataFrame with dictionary columns converted to strings.\n",
    "    \"\"\"\n",
    "    for col in ProjectRecords_pd.columns:\n",
    "        # Check if the column contains dictionary entries\n",
    "        if ProjectRecords_pd[col].apply(lambda x: isinstance(x, dict)).any():\n",
    "            ProjectRecords_pd[col] = ProjectRecords_pd[col].apply(lambda x: str(x) if isinstance(x, dict) else x)\n",
    "    return ProjectRecords_pd\n",
    "ProjectRecords_pd = convert_dict_columns_to_string(ProjectRecords_pd)"
   ]
  },
  {
   "cell_type": "code",
   "execution_count": 7,
   "id": "9ab67b68",
   "metadata": {},
   "outputs": [],
   "source": [
    "# Replace Nan Values with appropraite defaults or remove row/columns as neccesary\n",
    "ProjectRecords_pd.fillna({\n",
    "    \"assessorID\": \"Unknown\",\n",
    "    \"legalDescription\": \"Not available\",\n",
    "    \"squareFootage\": 0,\n",
    "    \"subdivision\": \"Not available\",\n",
    "    \"yearBuilt\": 0,\n",
    "    \"bathrooms\": 0,\n",
    "    \"lotSize\": 0,\n",
    "    \"propertyType\": \"Unknown\",\n",
    "    \"lastSalePrice\":0,\n",
    "    \"lastSaleDate\": \"Not available\",\n",
    "    \"features\": \"None\",\n",
    "    \"taxAssessment\": \"Not available\",\n",
    "    \"owner\": \"Unknown\",\n",
    "    \"propertyTaxes\": \"Not available\",\n",
    "    \"bedrooms\": 0,\n",
    "    \"ownerOccupied\": 0,\n",
    "    \"zoning\": \"Unknown\",\n",
    "    \"addressLine2\": \"Not available\",\n",
    "    \"formattedAddress\": \"Not Available\",\n",
    "    \"county\": \"Not available\"\n",
    "    \n",
    "}, inplace=True)"
   ]
  },
  {
   "cell_type": "code",
   "execution_count": 8,
   "id": "e45c2887",
   "metadata": {},
   "outputs": [],
   "source": [
    "# Create the fact table\n",
    "fact_columns = [\"addressLine1\", \"city\", \"state\", \"zipCode\", \"formattedAddress\", \"squareFootage\", \"yearBuilt\", \"bathrooms\",\n",
    "               \"bedrooms\", \"lotSize\", \"longitude\", \"latitude\"]\n",
    "fact_table = ProjectRecords_pd[fact_columns]\n"
   ]
  },
  {
   "cell_type": "code",
   "execution_count": 9,
   "id": "793d8dc7",
   "metadata": {},
   "outputs": [],
   "source": [
    "# Create location Dimension\n",
    "location_dim = ProjectRecords_pd[[\"addressLine1\", \"city\", \"state\", \"zipCode\",\"longitude\", \"latitude\"]].drop_duplicates()\n",
    "location_dim.index.name = \"location_id\"\n"
   ]
  },
  {
   "cell_type": "code",
   "execution_count": 10,
   "id": "7df1a240",
   "metadata": {},
   "outputs": [],
   "source": [
    "# Create sale Dimension\n",
    "sales_dim = ProjectRecords_pd[['lastSalePrice', \"lastSaleDate\"]].drop_duplicates().reset_index(drop=True)\n",
    "sales_dim.index.name = \"sales_id\""
   ]
  },
  {
   "cell_type": "code",
   "execution_count": 11,
   "id": "4f1f5440",
   "metadata": {},
   "outputs": [],
   "source": [
    "# Create Property Features Dimension\n",
    "features_dim = ProjectRecords_pd[[\"features\", \"propertyType\", \"zoning\"]].drop_duplicates().reset_index(drop=True)\n",
    "features_dim.index.name = \"features_id\""
   ]
  },
  {
   "cell_type": "code",
   "execution_count": 12,
   "id": "712b9cea",
   "metadata": {},
   "outputs": [],
   "source": [
    "# Saving fact and dimensions table in csv format\n",
    "fact_table.to_csv(\"property_fact.csv\", index=False)\n",
    "location_dim.to_csv(\"location_dimension.csv\", index=True)\n",
    "sales_dim.to_csv(\"sales_dimension.csv\", index=True)\n",
    "features_dim.to_csv(\"features_dimension.csv\", index=True)"
   ]
  },
  {
   "cell_type": "code",
   "execution_count": null,
   "id": "6e4b2b20",
   "metadata": {},
   "outputs": [],
   "source": []
  },
  {
   "cell_type": "markdown",
   "id": "5f72f5c2",
   "metadata": {},
   "source": [
    "# Loading Layer"
   ]
  },
  {
   "cell_type": "code",
   "execution_count": 13,
   "id": "01f5a49d",
   "metadata": {},
   "outputs": [],
   "source": [
    "# develop a function to connect to pgadmin\n",
    "def get_db_connection():\n",
    "    connection = psycopg2.connect(\n",
    "        host = 'localhost',\n",
    "        database = 'postgres',\n",
    "        user = 'postgres',\n",
    "        password = \"OYE080tayo@\"\n",
    "    )\n",
    "    return connection\n",
    "\n",
    "conn = get_db_connection()"
   ]
  },
  {
   "cell_type": "code",
   "execution_count": 14,
   "id": "9560a397",
   "metadata": {},
   "outputs": [
    {
     "name": "stdout",
     "output_type": "stream",
     "text": [
      "<class 'pandas.core.frame.DataFrame'>\n",
      "RangeIndex: 316 entries, 0 to 315\n",
      "Data columns (total 2 columns):\n",
      " #   Column         Non-Null Count  Dtype  \n",
      "---  ------         --------------  -----  \n",
      " 0   lastSalePrice  316 non-null    float64\n",
      " 1   lastSaleDate   316 non-null    object \n",
      "dtypes: float64(1), object(1)\n",
      "memory usage: 5.1+ KB\n"
     ]
    }
   ],
   "source": [
    "sales_dim.info()"
   ]
  },
  {
   "cell_type": "code",
   "execution_count": 15,
   "id": "09e62184",
   "metadata": {},
   "outputs": [],
   "source": [
    "# Creating tables\n",
    "def create_tables():\n",
    "    conn = get_db_connection()\n",
    "    cursor = conn.cursor()\n",
    "    create_table_query =  '''CREATE SCHEMA IF NOT EXISTS zapbank;\n",
    "    \n",
    "                             DROP TABLE IF EXISTS zapbank.fact_table;\n",
    "                             DROP TABLE IF EXISTS zapbank.location_dim;\n",
    "                             DROP TABLE IF EXISTS zapbank.sales_dim;\n",
    "                             DROP TABLE IF EXISTS zapbank.features_dim;\n",
    "                             \n",
    "                             CREATE TABLE zapbank.fact_table(\n",
    "                                 addressLine1 VARCHAR(255),\n",
    "                                 city VARCHAR(100),\n",
    "                                 state VARCHAR(50),\n",
    "                                 zipCode INTEGER,\n",
    "                                 formattedAddredd VARCHAR(255),\n",
    "                                 squareFootage FLOAT,\n",
    "                                 yearBuilt FLOAT,\n",
    "                                 bathrooms FLOAT,\n",
    "                                 bedrooms FLOAT,\n",
    "                                 propertyType VARCHAR(100),\n",
    "                                 longitude FLOAT,\n",
    "                                 latitude FLOAT\n",
    "                             );\n",
    "                             \n",
    "                             CREATE TABLE zapbank.location_dim(\n",
    "                                 location_id SERIAL PRIMARY KEY,\n",
    "                                 addressLine1 VARCHAR(255),\n",
    "                                 city VARCHAR(100),\n",
    "                                 state VARCHAR(50),\n",
    "                                 zipCode INTEGER,\n",
    "                                 longitude FLOAT,\n",
    "                                 latitude FLOAT\n",
    "                             );\n",
    "                             \n",
    "                             CREATE TABLE zapbank.sales_dim(\n",
    "                                 sales_id SERIAL PRIMARY KEY,\n",
    "                                 lastSalePrice FLOAT,\n",
    "                                 lastSaleDate DATE\n",
    "                             ); \n",
    "                             \n",
    "                             CREATE TABLE zapbank.features_dim(\n",
    "                                 features_id SERIAL PRIMARY KEY,\n",
    "                                 features TEXT,\n",
    "                                 propertyType VARCHAR(100),\n",
    "                                 zoning VARCHAR(100)\n",
    "                             );'''\n",
    "    cursor.execute(create_table_query)\n",
    "    conn.commit()\n",
    "    cursor.close()\n",
    "    conn.close()\n",
    "    \n",
    "create_tables()"
   ]
  },
  {
   "cell_type": "code",
   "execution_count": 16,
   "id": "f93cd3bc",
   "metadata": {},
   "outputs": [],
   "source": [
    "# create a function to load the csv data into the database\n",
    "def load_data_from_csv_to_table(csv_path,  table_name):\n",
    "    conn = get_db_connection()\n",
    "    cursor = conn.cursor()\n",
    "    with open(csv_path, 'r', encoding=\"utf-8\") as file:\n",
    "            reader = csv.reader(file)\n",
    "            next(reader)\n",
    "            for row in reader:\n",
    "                placeholders = ', '.join(['%s'] * len(row))\n",
    "                query = f'INSERT INTO {table_name} VALUES({placeholders});'\n",
    "                cursor.execute(query, row)\n",
    "    conn.commit()\n",
    "    cursor.close()\n",
    "    conn.close()     "
   ]
  },
  {
   "cell_type": "code",
   "execution_count": 17,
   "id": "164ce23e",
   "metadata": {},
   "outputs": [],
   "source": [
    "# fact table\n",
    "fact_csv_path = r'/Users/OYETAYOADEDAMOLA/Documents/AmdariProject/Project1/property_fact.csv'\n",
    "load_data_from_csv_to_table(fact_csv_path,'zapbank.fact_table')"
   ]
  },
  {
   "cell_type": "code",
   "execution_count": 18,
   "id": "7c64ac60",
   "metadata": {},
   "outputs": [],
   "source": [
    "# location dimension table\n",
    "location_csv_path = r'/Users/OYETAYOADEDAMOLA/Documents/AmdariProject/Project1/location_dimension.csv'\n",
    "load_data_from_csv_to_table(location_csv_path,'zapbank.location_dim')"
   ]
  },
  {
   "cell_type": "code",
   "execution_count": 19,
   "id": "33e5df89",
   "metadata": {},
   "outputs": [],
   "source": [
    "# feature dimension table\n",
    "feature_csv_path = r'/Users/OYETAYOADEDAMOLA/Documents/AmdariProject/Project1/features_dimension.csv'\n",
    "load_data_from_csv_to_table(feature_csv_path,'zapbank.features_dim')"
   ]
  },
  {
   "cell_type": "code",
   "execution_count": 21,
   "id": "a64465e0",
   "metadata": {},
   "outputs": [],
   "source": [
    "# create a function to load the csv data into the database (specifically for sales)\n",
    "def load_data_from_csv_to_sales_table(csv_path, table_name):\n",
    "    conn = get_db_connection()\n",
    "    cursor = conn.cursor()\n",
    "    with open(csv_path, 'r', encoding=\"utf-8\") as file:\n",
    "            reader = csv.reader(file)\n",
    "            next(reader)\n",
    "            for row in reader:\n",
    "                # convert empty strings (or 'Not available') in date column to None(Null in SQL)\n",
    "                row = [None if (cell == \"\" or cell == \"Not available\") and col_name == 'lastSaleDate' else cell for cell, col_name in zip(row, sale_dim_columns)]\n",
    "                placeholders = ', '.join(['%s'] * len(row))\n",
    "                query = f'INSERT INTO {table_name} VALUES({placeholders});'\n",
    "                cursor.execute(query, row)\n",
    "    conn.commit()\n",
    "    cursor.close()\n",
    "    conn.close()\n",
    "    \n",
    "sale_dim_columns = ['sales_id', 'lastSalePrice', 'lastSaleDate']\n",
    "\n",
    "# sales dimension table\n",
    "sales_csv_path = r'/Users/OYETAYOADEDAMOLA/Documents/AmdariProject/Project1/sales_dimension.csv'\n",
    "load_data_from_csv_to_sales_table(sales_csv_path,'zapbank.sales_dim')\n",
    "    "
   ]
  },
  {
   "cell_type": "code",
   "execution_count": 22,
   "id": "84b9a5f6",
   "metadata": {},
   "outputs": [
    {
     "name": "stdout",
     "output_type": "stream",
     "text": [
      "All Data has been loaded successfully into their respective schema and tables\n"
     ]
    }
   ],
   "source": [
    "print('All Data has been loaded successfully into their respective schema and tables')"
   ]
  },
  {
   "cell_type": "code",
   "execution_count": null,
   "id": "a82f44b5",
   "metadata": {},
   "outputs": [],
   "source": []
  }
 ],
 "metadata": {
  "kernelspec": {
   "display_name": "Python 3 (ipykernel)",
   "language": "python",
   "name": "python3"
  },
  "language_info": {
   "codemirror_mode": {
    "name": "ipython",
    "version": 3
   },
   "file_extension": ".py",
   "mimetype": "text/x-python",
   "name": "python",
   "nbconvert_exporter": "python",
   "pygments_lexer": "ipython3",
   "version": "3.10.6"
  }
 },
 "nbformat": 4,
 "nbformat_minor": 5
}
